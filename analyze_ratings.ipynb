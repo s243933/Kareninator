{
 "cells": [
  {
   "cell_type": "markdown",
   "id": "35b4bc35",
   "metadata": {},
   "source": [
    "# Imports"
   ]
  },
  {
   "cell_type": "code",
   "execution_count": null,
   "id": "96e90eb7",
   "metadata": {},
   "outputs": [],
   "source": [
    "import pandas as pd\n",
    "import numpy as np\n",
    "import matplotlib.pyplot as plt\n",
    "import math\n",
    "import os\n",
    "from PIL import Image\n",
    "from sklearn.decomposition import PCA"
   ]
  },
  {
   "cell_type": "markdown",
   "id": "e0b29a05",
   "metadata": {},
   "source": [
    "# Ratings"
   ]
  },
  {
   "cell_type": "code",
   "execution_count": 8,
   "id": "6c3865d3",
   "metadata": {},
   "outputs": [],
   "source": [
    "df = pd.read_csv(r\"C:\\Users\\desus\\OneDrive - Danmarks Tekniske Universitet\\Fall_2025\\Cognitive_Modelling\\Kareninator\\data\\ratings\\s243933_image_ratings.csv\")"
   ]
  },
  {
   "cell_type": "code",
   "execution_count": 9,
   "id": "415f2436",
   "metadata": {},
   "outputs": [],
   "source": [
    "values = df['Rating'].tolist()\n",
    "norm_values = [(x - min(values)) / (max(values) - min(values)) for x in values]"
   ]
  },
  {
   "cell_type": "code",
   "execution_count": 11,
   "id": "8ffcb711",
   "metadata": {},
   "outputs": [
    {
     "data": {
      "text/plain": [
       "range(0, 3)"
      ]
     },
     "execution_count": 11,
     "metadata": {},
     "output_type": "execute_result"
    }
   ],
   "source": [
    "range(math.floor(min(norm_values)), math.ceil(max(norm_values) + 2))"
   ]
  },
  {
   "cell_type": "code",
   "execution_count": 13,
   "id": "114ac211",
   "metadata": {},
   "outputs": [
    {
     "data": {
      "image/png": "[encoded data removed]",
      "text/plain": [
       "<Figure size 640x480 with 1 Axes>"
      ]
     },
     "metadata": {},
     "output_type": "display_data"
    }
   ],
   "source": [
    "plt.hist(norm_values, 6, edgecolor=\"black\")\n",
    "plt.xlabel(\"Value\")\n",
    "plt.ylabel(\"Frequency\")\n",
    "plt.title(\"Histogram of Values\")\n",
    "plt.show()"
   ]
  },
  {
   "cell_type": "markdown",
   "id": "a15ac7e8",
   "metadata": {},
   "source": [
    "# PCA"
   ]
  },
  {
   "cell_type": "code",
   "execution_count": 16,
   "id": "53839550",
   "metadata": {},
   "outputs": [],
   "source": [
    "# Load images\n",
    "image_folder = r\"C:\\Users\\desus\\OneDrive - Danmarks Tekniske Universitet\\Fall_2025\\Cognitive_Modelling\\Kareninator\\data\\preprocessed_data\""
   ]
  },
  {
   "cell_type": "code",
   "execution_count": null,
   "id": "be37b900",
   "metadata": {},
   "outputs": [],
   "source": [
    "# Init matrix J\n",
    "J = np.array([]).reshape(0, 100*100)  # Assuming images are 64x64 pixels"
   ]
  },
  {
   "cell_type": "code",
   "execution_count": null,
   "id": "0716ca87",
   "metadata": {},
   "outputs": [],
   "source": [
    "# Add to matrix J -> each row is a flattened image\n",
    "for img_file in os.listdir(image_folder):\n",
    "    img = Image.open(os.path.join(image_folder, img_file))\n",
    "    img_array = np.array(img).flatten()\n",
    "    J = np.vstack([J, img_array])"
   ]
  },
  {
   "cell_type": "code",
   "execution_count": null,
   "id": "f6963d1e",
   "metadata": {},
   "outputs": [
    {
     "data": {
      "text/plain": [
       "array([[-113.81331397, -107.81331397, -114.81331397, ...,   35.18668603,\n",
       "          18.18668603,    8.18668603],\n",
       "       [ -85.81331397,  -88.81331397,  -92.81331397, ..., -128.81331397,\n",
       "        -128.81331397, -129.81331397],\n",
       "       [ -62.81331397,  -75.81331397,  -85.81331397, ...,  -28.81331397,\n",
       "         -75.81331397, -114.81331397],\n",
       "       ...,\n",
       "       [ -70.81331397,  -74.81331397,  -85.81331397, ...,  -34.81331397,\n",
       "         -38.81331397,  -39.81331397],\n",
       "       [ -36.81331397,  -53.81331397,  -73.81331397, ...,  -76.81331397,\n",
       "         -91.81331397,  -88.81331397],\n",
       "       [-110.81331397, -114.81331397, -118.81331397, ...,   99.18668603,\n",
       "          98.18668603,   97.18668603]])"
      ]
     },
     "execution_count": 35,
     "metadata": {},
     "output_type": "execute_result"
    }
   ],
   "source": [
    "# Get the mean image and center the data\n",
    "mean_J = np.mean(J)\n",
    "J_centered = J - mean_J\n",
    "J_centered"
   ]
  },
  {
   "cell_type": "code",
   "execution_count": null,
   "id": "2f93464a",
   "metadata": {},
   "outputs": [],
   "source": [
    "# Do PCA on the centered data\n"
   ]
  }
 ],
 "metadata": {
  "kernelspec": {
   "display_name": "ds",
   "language": "python",
   "name": "python3"
  },
  "language_info": {
   "codemirror_mode": {
    "name": "ipython",
    "version": 3
   },
   "file_extension": ".py",
   "mimetype": "text/x-python",
   "name": "python",
   "nbconvert_exporter": "python",
   "pygments_lexer": "ipython3",
   "version": "3.11.10"
  }
 },
 "nbformat": 4,
 "nbformat_minor": 5
}
