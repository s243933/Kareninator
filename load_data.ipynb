{
 "cells": [
  {
   "cell_type": "markdown",
   "id": "57c2d322",
   "metadata": {},
   "source": [
    "# Imports"
   ]
  },
  {
   "cell_type": "code",
   "execution_count": null,
   "id": "fbd4d398",
   "metadata": {},
   "outputs": [],
   "source": [
    "import pandas as pd\n",
    "import kagglehub\n",
    "from pathlib import Path\n",
    "import shutil"
   ]
  },
  {
   "cell_type": "markdown",
   "id": "610c7249",
   "metadata": {},
   "source": [
    "# Load dataset"
   ]
  },
  {
   "cell_type": "code",
   "execution_count": null,
   "id": "bd4a2541",
   "metadata": {},
   "outputs": [
    {
     "name": "stderr",
     "output_type": "stream",
     "text": [
      "c:\\ProgramData\\miniconda3\\Lib\\site-packages\\tqdm\\auto.py:21: TqdmWarning: IProgress not found. Please update jupyter and ipywidgets. See https://ipywidgets.readthedocs.io/en/stable/user_install.html\n",
      "  from .autonotebook import tqdm as notebook_tqdm\n"
     ]
    },
    {
     "name": "stdout",
     "output_type": "stream",
     "text": [
      "Warning: Looks like you're using an outdated `kagglehub` version, please consider updating (latest version: 0.3.13)\n",
      "Path to dataset files: C:\\Users\\Temp\\.cache\\kagglehub\\datasets\\abhikjha\\utk-face-cropped\\versions\\1\n"
     ]
    }
   ],
   "source": [
    "# Download latest version\n",
    "path = kagglehub.dataset_download(\"abhikjha/utk-face-cropped\")\n",
    "print(\"Path to dataset files:\", path)"
   ]
  },
  {
   "cell_type": "markdown",
   "id": "cb71ecc2",
   "metadata": {},
   "source": [
    "> *Filename structure*:\n",
    "> * First interger -- age\n",
    "> * Second interger -- male(0)/female(1)\n",
    "> * Third integer -- ethnicity: white(0)/black(1)/asian(2)/indian(3)/other(4) "
   ]
  },
  {
   "cell_type": "markdown",
   "id": "3e522416",
   "metadata": {},
   "source": [
    "# Create a subset of relevant data"
   ]
  },
  {
   "cell_type": "code",
   "execution_count": null,
   "id": "05cdc4f0",
   "metadata": {},
   "outputs": [],
   "source": [
    "# Function to search for files with a specific keyword in their names\n",
    "def search_files(directory, keyword, list):\n",
    "    for file in Path(directory).rglob(f\"*{keyword}*\"):\n",
    "        list.append(file)"
   ]
  },
  {
   "cell_type": "code",
   "execution_count": null,
   "id": "00061602",
   "metadata": {},
   "outputs": [],
   "source": [
    "# Create subset of only white females between 40 and 59 years old\n",
    "directory = r\"C:\\Users\\Temp\\.cache\\kagglehub\\datasets\\abhikjha\\utk-face-cropped\\versions\\1\"\n",
    "filename_list = []\n",
    "for i in range(40, 60):\n",
    "    search_files(directory, f\"{i}_1_0\", filename_list)"
   ]
  },
  {
   "cell_type": "code",
   "execution_count": null,
   "id": "42ad60aa",
   "metadata": {},
   "outputs": [],
   "source": [
    "# Create a dataframe of filenames\n",
    "df = pd.DataFrame(filename_list, columns=['Filename'])"
   ]
  },
  {
   "cell_type": "code",
   "execution_count": 8,
   "id": "752a8588",
   "metadata": {},
   "outputs": [
    {
     "data": {
      "text/plain": [
       "1595"
      ]
     },
     "execution_count": 8,
     "metadata": {},
     "output_type": "execute_result"
    }
   ],
   "source": [
    "len(df)"
   ]
  },
  {
   "cell_type": "code",
   "execution_count": null,
   "id": "4f726904",
   "metadata": {},
   "outputs": [],
   "source": [
    "# Shuffle and keep only 30% of the data\n",
    "shuffled_df = df.sample(frac=0.3).reset_index(drop=True)"
   ]
  },
  {
   "cell_type": "code",
   "execution_count": 10,
   "id": "c7aaa7cf",
   "metadata": {},
   "outputs": [
    {
     "data": {
      "text/plain": [
       "287"
      ]
     },
     "execution_count": 10,
     "metadata": {},
     "output_type": "execute_result"
    }
   ],
   "source": [
    "len(shuffled_df)"
   ]
  },
  {
   "cell_type": "code",
   "execution_count": null,
   "id": "c24db3ef",
   "metadata": {},
   "outputs": [],
   "source": [
    "# Save the subset to a new folder\n",
    "destination = r\"C:\\Users\\Temp\\Documents\\DTU\\Cognitive Modelling\\Kareninator\\subset_folder\"  # Example destination folder path\n",
    "for i in shuffled_df.index:\n",
    "    source=shuffled_df.iloc[i, 0]\n",
    "    shutil.copy(source, destination)"
   ]
  }
 ],
 "metadata": {
  "kernelspec": {
   "display_name": "base",
   "language": "python",
   "name": "python3"
  },
  "language_info": {
   "codemirror_mode": {
    "name": "ipython",
    "version": 3
   },
   "file_extension": ".py",
   "mimetype": "text/x-python",
   "name": "python",
   "nbconvert_exporter": "python",
   "pygments_lexer": "ipython3",
   "version": "3.13.5"
  }
 },
 "nbformat": 4,
 "nbformat_minor": 5
}
