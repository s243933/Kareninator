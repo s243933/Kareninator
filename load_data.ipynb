{
 "cells": [
  {
   "cell_type": "markdown",
   "id": "57c2d322",
   "metadata": {},
   "source": [
    "# Imports"
   ]
  },
  {
   "cell_type": "code",
   "execution_count": 13,
   "id": "fbd4d398",
   "metadata": {},
   "outputs": [],
   "source": [
    "import pandas as pd\n",
    "import kagglehub\n",
    "from pathlib import Path\n",
    "from PIL import Image\n",
    "import os"
   ]
  },
  {
   "cell_type": "markdown",
   "id": "610c7249",
   "metadata": {},
   "source": [
    "# Load dataset"
   ]
  },
  {
   "cell_type": "code",
   "execution_count": 14,
   "id": "bd4a2541",
   "metadata": {},
   "outputs": [
    {
     "name": "stdout",
     "output_type": "stream",
     "text": [
      "Path to dataset files already exists:  C:\\Users\\desus\\.cache\\kagglehub\\datasets\\abhikjha\\utk-face-cropped\\versions\\1\n"
     ]
    }
   ],
   "source": [
    "# Download latest version\n",
    "if os.path.exists(r\"C:\\Users\\desus\\.cache\\kagglehub\\datasets\\abhikjha\\utk-face-cropped\\versions\\1\"):\n",
    "    raw_data_path = r\"C:\\Users\\desus\\.cache\\kagglehub\\datasets\\abhikjha\\utk-face-cropped\\versions\\1\"\n",
    "    print(\"Path to dataset files already exists: \", raw_data_path)\n",
    "\n",
    "else:\n",
    "    raw_data_path = kagglehub.dataset_download(\"abhikjha/utk-face-cropped\")\n",
    "    print(\"Path to dataset files:\", raw_data_path)"
   ]
  },
  {
   "cell_type": "markdown",
   "id": "cb71ecc2",
   "metadata": {},
   "source": [
    "> *Filename structure*:\n",
    "> * First interger -- age\n",
    "> * Second interger -- male(0)/female(1)\n",
    "> * Third integer -- ethnicity: white(0)/black(1)/asian(2)/indian(3)/other(4) "
   ]
  },
  {
   "cell_type": "markdown",
   "id": "3e522416",
   "metadata": {},
   "source": [
    "# Create a subset of relevant data\n",
    "\n",
    "*Ages 40-60, White females*"
   ]
  },
  {
   "cell_type": "code",
   "execution_count": 3,
   "id": "05cdc4f0",
   "metadata": {},
   "outputs": [],
   "source": [
    "# Function to search for files with a specific keyword in their names\n",
    "def search_files(directory, keyword, list):\n",
    "    for file in Path(directory).rglob(f\"*{keyword}*\"):\n",
    "        list.append(file)"
   ]
  },
  {
   "cell_type": "code",
   "execution_count": 4,
   "id": "00061602",
   "metadata": {},
   "outputs": [
    {
     "name": "stdout",
     "output_type": "stream",
     "text": [
      "C:\\Users\\desus\\.cache\\kagglehub\\datasets\\abhikjha\\utk-face-cropped\\versions\\1\\utkcropped\\utkcropped\n"
     ]
    }
   ],
   "source": [
    "# Create subset of only white females between 40 and 59 years old\n",
    "directory = os.path.join(raw_data_path, r\"utkcropped\\utkcropped\")\n",
    "print(directory)\n",
    "filename_list = []\n",
    "for i in range(40, 61):\n",
    "    search_files(directory, f\"{i}_1_0\", filename_list)"
   ]
  },
  {
   "cell_type": "code",
   "execution_count": 5,
   "id": "42ad60aa",
   "metadata": {},
   "outputs": [
    {
     "data": {
      "text/plain": [
       "904"
      ]
     },
     "execution_count": 5,
     "metadata": {},
     "output_type": "execute_result"
    }
   ],
   "source": [
    "# Create a dataframe of filenames\n",
    "df = pd.DataFrame(filename_list, columns=['Filename'])\n",
    "len(df)"
   ]
  },
  {
   "cell_type": "code",
   "execution_count": 6,
   "id": "4f726904",
   "metadata": {},
   "outputs": [],
   "source": [
    "# Shuffle and keep only 30% of the data\n",
    "shuffled_df = df.sample(frac=0.5).reset_index(drop=True)"
   ]
  },
  {
   "cell_type": "code",
   "execution_count": 7,
   "id": "c7aaa7cf",
   "metadata": {},
   "outputs": [
    {
     "data": {
      "text/plain": [
       "452"
      ]
     },
     "execution_count": 7,
     "metadata": {},
     "output_type": "execute_result"
    }
   ],
   "source": [
    "len(shuffled_df)"
   ]
  },
  {
   "cell_type": "code",
   "execution_count": 8,
   "id": "c24db3ef",
   "metadata": {},
   "outputs": [
    {
     "name": "stdout",
     "output_type": "stream",
     "text": [
      "c:\\Users\\desus\\OneDrive - Danmarks Tekniske Universitet\\Fall_2025\\Cognitive_Modelling\\Kareninator\\data\\raw_data\n"
     ]
    }
   ],
   "source": [
    "# Save the subset to a new folder\n",
    "current_dir = os.getcwd()\n",
    "destination_dir = os.path.join(current_dir, 'data', 'raw_data')\n",
    "print(destination_dir)\n",
    "\n",
    "for i in shuffled_df.index:\n",
    "    source=shuffled_df.iloc[i, 0]\n",
    "    img = Image.open(source)\n",
    "    img.save(os.path.join(destination_dir, os.path.basename(source)))\n"
   ]
  },
  {
   "cell_type": "markdown",
   "id": "d66dde9d",
   "metadata": {},
   "source": [
    "# Manual check of data\n",
    "\n",
    "*Remove images that do not fulfill the following criteria* -- \n",
    "* Full frontal face\n",
    "* \"White\" woman\n",
    "* Visible eyes and features (no sunglasses)\n",
    "* High resolution\n",
    "* No watermarks\n",
    "\n",
    "Number of images *before* manual removal - 452\n",
    "\n",
    "Number of images *after* manual removal - 272\n"
   ]
  },
  {
   "cell_type": "markdown",
   "id": "f03ae5d7",
   "metadata": {},
   "source": [
    "# Grayscale images"
   ]
  },
  {
   "cell_type": "code",
   "execution_count": 15,
   "id": "ca91d88d",
   "metadata": {},
   "outputs": [],
   "source": [
    "# Save the subset to a new folder\n",
    "current_dir = os.getcwd()\n",
    "destination_dir = os.path.join(current_dir, 'data', 'raw_data')\n",
    "\n",
    "grayscale_img_dir = os.path.join(current_dir, 'data', 'preprocessed_data')\n",
    "\n",
    "for img in os.listdir(destination_dir):\n",
    "    gray_img = Image.open(os.path.join(current_dir, 'data', 'raw_data', img)).convert('L')\n",
    "    gray_img_resized = gray_img.resize((100, 100), Image.LANCZOS)\n",
    "    gray_img_resized.save(os.path.join(grayscale_img_dir, img))"
   ]
  },
  {
   "cell_type": "code",
   "execution_count": null,
   "id": "c6121a8e",
   "metadata": {},
   "outputs": [],
   "source": []
  }
 ],
 "metadata": {
  "kernelspec": {
   "display_name": "ds",
   "language": "python",
   "name": "python3"
  },
  "language_info": {
   "codemirror_mode": {
    "name": "ipython",
    "version": 3
   },
   "file_extension": ".py",
   "mimetype": "text/x-python",
   "name": "python",
   "nbconvert_exporter": "python",
   "pygments_lexer": "ipython3",
   "version": "3.11.10"
  }
 },
 "nbformat": 4,
 "nbformat_minor": 5
}
