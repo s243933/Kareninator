{
 "cells": [
  {
   "cell_type": "code",
   "execution_count": 1,
   "id": "fbd4d398",
   "metadata": {},
   "outputs": [],
   "source": [
    "#imports\n",
    "import pandas as pd"
   ]
  },
  {
   "cell_type": "code",
   "execution_count": 2,
   "id": "bd4a2541",
   "metadata": {},
   "outputs": [
    {
     "name": "stderr",
     "output_type": "stream",
     "text": [
      "c:\\ProgramData\\miniconda3\\Lib\\site-packages\\tqdm\\auto.py:21: TqdmWarning: IProgress not found. Please update jupyter and ipywidgets. See https://ipywidgets.readthedocs.io/en/stable/user_install.html\n",
      "  from .autonotebook import tqdm as notebook_tqdm\n"
     ]
    },
    {
     "name": "stdout",
     "output_type": "stream",
     "text": [
      "Warning: Looks like you're using an outdated `kagglehub` version, please consider updating (latest version: 0.3.13)\n",
      "Path to dataset files: C:\\Users\\Temp\\.cache\\kagglehub\\datasets\\abhikjha\\utk-face-cropped\\versions\\1\n"
     ]
    }
   ],
   "source": [
    "import kagglehub\n",
    "\n",
    "# Download latest version\n",
    "path = kagglehub.dataset_download(\"abhikjha/utk-face-cropped\")\n",
    "\n",
    "print(\"Path to dataset files:\", path)"
   ]
  },
  {
   "cell_type": "code",
   "execution_count": 3,
   "id": "2e8c8aed",
   "metadata": {},
   "outputs": [],
   "source": [
    "# first interger age\n",
    "# Second interger male/female\n",
    "# Ethnicity, 0 white 1 black 2 asian 3 indian 4 other "
   ]
  },
  {
   "cell_type": "code",
   "execution_count": 4,
   "id": "05cdc4f0",
   "metadata": {},
   "outputs": [],
   "source": [
    "from pathlib import Path\n",
    "\n",
    "def search_files(directory, keyword, list):\n",
    "    for file in Path(directory).rglob(f\"*{keyword}*\"):\n",
    "        list.append(file)\n",
    "\n",
    "\n"
   ]
  },
  {
   "cell_type": "code",
   "execution_count": 5,
   "id": "9a8f12ff",
   "metadata": {},
   "outputs": [],
   "source": [
    "#create dataframe:\n",
    "df = pd.DataFrame(columns=[\"filename\", \"empty\"])"
   ]
  },
  {
   "cell_type": "code",
   "execution_count": 6,
   "id": "00061602",
   "metadata": {},
   "outputs": [],
   "source": [
    "# Create subset of karenators\n",
    "\n",
    "directory = r\"C:\\Users\\Temp\\.cache\\kagglehub\\datasets\\abhikjha\\utk-face-cropped\\versions\\1\"\n",
    "\n",
    "filename_list = []\n",
    "\n",
    "for i in range(40, 60):\n",
    "    search_files(directory, f\"{i}_1_0\", filename_list)\n",
    "\n",
    "    "
   ]
  },
  {
   "cell_type": "code",
   "execution_count": 7,
   "id": "42ad60aa",
   "metadata": {},
   "outputs": [],
   "source": [
    "df = pd.DataFrame(filename_list, columns=['Filename'])"
   ]
  },
  {
   "cell_type": "code",
   "execution_count": 8,
   "id": "752a8588",
   "metadata": {},
   "outputs": [
    {
     "data": {
      "text/plain": [
       "1595"
      ]
     },
     "execution_count": 8,
     "metadata": {},
     "output_type": "execute_result"
    }
   ],
   "source": [
    "len(df)"
   ]
  },
  {
   "cell_type": "code",
   "execution_count": null,
   "id": "4f726904",
   "metadata": {},
   "outputs": [],
   "source": [
    "shuffled_df = df.sample(frac=0.3).reset_index(drop=True)"
   ]
  },
  {
   "cell_type": "code",
   "execution_count": 10,
   "id": "c7aaa7cf",
   "metadata": {},
   "outputs": [
    {
     "data": {
      "text/plain": [
       "287"
      ]
     },
     "execution_count": 10,
     "metadata": {},
     "output_type": "execute_result"
    }
   ],
   "source": [
    "len(shuffled_df)"
   ]
  },
  {
   "cell_type": "code",
   "execution_count": 11,
   "id": "c24db3ef",
   "metadata": {},
   "outputs": [],
   "source": [
    "#create subset of data in folder\n",
    "import shutil\n",
    "destination = r\"C:\\Users\\Temp\\Documents\\DTU\\Cognitive Modelling\\Kareninator\\subset_folder\"  # Example destination folder path\n",
    "for i in shuffled_df.index:\n",
    "    source=shuffled_df.iloc[i, 0]\n",
    "    shutil.copy(source, destination)\n",
    "\n"
   ]
  }
 ],
 "metadata": {
  "kernelspec": {
   "display_name": "base",
   "language": "python",
   "name": "python3"
  },
  "language_info": {
   "codemirror_mode": {
    "name": "ipython",
    "version": 3
   },
   "file_extension": ".py",
   "mimetype": "text/x-python",
   "name": "python",
   "nbconvert_exporter": "python",
   "pygments_lexer": "ipython3",
   "version": "3.13.5"
  }
 },
 "nbformat": 4,
 "nbformat_minor": 5
}
